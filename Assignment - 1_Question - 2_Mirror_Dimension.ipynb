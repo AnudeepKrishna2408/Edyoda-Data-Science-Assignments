{
 "cells": [
  {
   "cell_type": "code",
   "execution_count": 3,
   "id": "29aeef5d",
   "metadata": {},
   "outputs": [],
   "source": [
    "#Write a Python program that accepts a word from the user and reverse it.\n",
    "# We have two approches for the above program they are:\n",
    "# 1. Using indexing method we can write the code.\n",
    "# 2. Using for loop we can write the code."
   ]
  },
  {
   "cell_type": "code",
   "execution_count": 2,
   "id": "68a3b2f6",
   "metadata": {},
   "outputs": [
    {
     "name": "stdout",
     "output_type": "stream",
     "text": [
      "Enter a Word :  123456789\n",
      "123456789\n",
      "987654321\n"
     ]
    }
   ],
   "source": [
    "# 1st - approch :- Using Indexing Method but by this code we can't run everything perfectly to get output.\n",
    "       # We Can only run small things by using this method to get perfect output\n",
    "Word_by_User = input(\"Enter a Word :  \")\n",
    "print(Word_by_User)\n",
    "print(Word_by_User[::-1])\n",
    "\n",
    "                           #Explanation for program :- Here we store word in our variable i.e named as Word_by_User.\n",
    "                                                    #By using input function.\n",
    "                                                    #Then We are printing our variable\n",
    "                                                    #In this step we are reversing our variable by using : \n",
    "                                                    #Reverse Indexing Method and printing it. "
   ]
  },
  {
   "cell_type": "code",
   "execution_count": 5,
   "id": "5af4d9ce",
   "metadata": {},
   "outputs": [
    {
     "name": "stdout",
     "output_type": "stream",
     "text": [
      "Enter a Word :  Anudeep Krishna Paramkusam 1997 08 24 Sunday\n",
      "Anudeep Krishna Paramkusam 1997 08 24 Sunday\n",
      "yadnuS 42 80 7991 masukmaraP anhsirK peedunA\n"
     ]
    }
   ],
   "source": [
    "# 2nd - approch :- Using for loop we can give any thing in this code it'll give perfect output.\n",
    "\n",
    "Word_by_User = input(\"Enter a Word :  \")\n",
    "Reverse_Word = \"\"\n",
    "print(Word_by_User)\n",
    "for char in Word_by_User:\n",
    "    Reverse_Word = char + Reverse_Word\n",
    "print(Reverse_Word)\n",
    "\n",
    "                             #Explanation of proogram :- Here we store word in our variable i.e named as Word_by_User.\n",
    "                                                    #By using input function.\n",
    "                                                    #And creating an empty string variable named as Reverse Word\n",
    "                                                    #Then we are printing our variable. \n",
    "                                                #After that we are using for loop. In for loop we are using char function to : \n",
    "                                                #Separate the letters. After separating it will reverse the Word\n",
    "                                                #After that we are storing the reversed word in the empty string\n",
    "                                                #then it will print Reverse Word.\n",
    "                                                #This process will continue till the condition satisfies."
   ]
  },
  {
   "cell_type": "code",
   "execution_count": null,
   "id": "8f146c76",
   "metadata": {},
   "outputs": [],
   "source": []
  }
 ],
 "metadata": {
  "kernelspec": {
   "display_name": "Python 3",
   "language": "python",
   "name": "python3"
  },
  "language_info": {
   "codemirror_mode": {
    "name": "ipython",
    "version": 3
   },
   "file_extension": ".py",
   "mimetype": "text/x-python",
   "name": "python",
   "nbconvert_exporter": "python",
   "pygments_lexer": "ipython3",
   "version": "3.8.8"
  }
 },
 "nbformat": 4,
 "nbformat_minor": 5
}
