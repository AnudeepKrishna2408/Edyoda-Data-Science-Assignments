{
 "cells": [
  {
   "cell_type": "code",
   "execution_count": 1,
   "id": "800d2aef",
   "metadata": {},
   "outputs": [
    {
     "name": "stdout",
     "output_type": "stream",
     "text": [
      "The string is :  The quick Brow Fox\n",
      "Count of UPPER CASE LETTERS IS :  3\n",
      "Count of lower case letters is :  12\n"
     ]
    }
   ],
   "source": [
    "#Write a Python function that accepts a string and calculate the number of upper case letters and lower case letters.\n",
    "\n",
    "def string_count(k):\n",
    "    a = {\"UPPER_CASE\" : 0, \"lower_case\" : 0}\n",
    "    for c in k:\n",
    "        if c.isupper():\n",
    "            a[\"UPPER_CASE\"] += 1\n",
    "        elif c.islower():\n",
    "            a[\"lower_case\"] += 1\n",
    "        else:\n",
    "            pass\n",
    "    print(\"The string is : \", k)\n",
    "    print(\"Count of UPPER CASE LETTERS IS : \", a[\"UPPER_CASE\"])\n",
    "    print(\"Count of lower case letters is : \", a[\"lower_case\"])\n",
    "    return\n",
    "string_count('The quick Brow Fox')\n",
    "           "
   ]
  },
  {
   "cell_type": "code",
   "execution_count": null,
   "id": "4c49a613",
   "metadata": {},
   "outputs": [],
   "source": []
  }
 ],
 "metadata": {
  "kernelspec": {
   "display_name": "Python 3",
   "language": "python",
   "name": "python3"
  },
  "language_info": {
   "codemirror_mode": {
    "name": "ipython",
    "version": 3
   },
   "file_extension": ".py",
   "mimetype": "text/x-python",
   "name": "python",
   "nbconvert_exporter": "python",
   "pygments_lexer": "ipython3",
   "version": "3.8.8"
  }
 },
 "nbformat": 4,
 "nbformat_minor": 5
}
