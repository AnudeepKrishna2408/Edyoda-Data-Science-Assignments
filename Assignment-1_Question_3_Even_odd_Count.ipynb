{
 "cells": [
  {
   "cell_type": "code",
   "execution_count": 5,
   "id": "477cacf9",
   "metadata": {},
   "outputs": [
    {
     "name": "stdout",
     "output_type": "stream",
     "text": [
      "Number of even numbers : 4\n",
      "Number of odd numbers : 5\n"
     ]
    }
   ],
   "source": [
    "#Write a Python program to count the number of even and odd numbers from a series of numbers.\n",
    "# Even Numbers :- It is defined as the numbers which are divisible by 2 or multiples of 2 are called as Even Numbers.\n",
    "# Odd Numbers :- It is defined as the numbers which are not divible by 2 or multiples of 2 are called as Odd Numbers.\n",
    "\n",
    "Series_OF_Numbers = [1,2,3,4,5,6,7,8,9]\n",
    "\n",
    "count_odd = 0\n",
    "\n",
    "count_even = 0\n",
    "\n",
    "for x in Series_Of_Numbers:\n",
    "    if x % 2 == 0:\n",
    "        count_even+=1\n",
    "    else:\n",
    "        count_odd+=1\n",
    "print(\"Number of even numbers :\",count_even)\n",
    "print(\"Number of odd numbers :\",count_odd)\n",
    "\n",
    "                                           #Explanation of a program :- Here we are taking a List of first 15 Natural Numbers.\n",
    "                                                                    #In a variable named as : Series Of Numbers\n",
    "                                                                    #Next we are taking 2 dummy variables named as :\n",
    "                                                                    #count_odd and count_even and assigning a value i.e 0\n",
    "                                                                    #NOw we are using for loop to count even odd odd numbers.\n",
    "                                                                    #In the Series Of Numbers and we will use that \n",
    "                                                                    # dummy variable to increase the count value\n",
    "                                                                    #This process will run till the condition satisfies.\n",
    "                                                                    #After that it will print even and odd numbers count."
   ]
  },
  {
   "cell_type": "code",
   "execution_count": 9,
   "id": "62fcb3e0",
   "metadata": {},
   "outputs": [
    {
     "name": "stdout",
     "output_type": "stream",
     "text": [
      "Enter the Day Number : 9\n",
      "9 It is an odd u can not come out\n",
      "But, There are only 7 Days in a week\n"
     ]
    }
   ],
   "source": [
    "#Write a Python Program to don't go outside in odd day\n",
    "\n",
    "Day_Number = int(input(\"Enter the Day Number : \"))\n",
    "if Day_Number % 2 ==0:\n",
    "    print(Day_Number, \"It is an even day you can come out\")\n",
    "else:\n",
    "    print(Day_Number, \"It is an odd you can not come out\")\n",
    "if Day_Number==1:\n",
    "    print(Day_Number, \"Monday\")\n",
    "elif Day_Number==2:\n",
    "    print(Day_Number, \"Tuesday\")\n",
    "elif Day_Number==3:\n",
    "    print(Day_Number, \"Wednesday\")\n",
    "elif Day_Number==4:\n",
    "    print(Day_Number, \"Thursday\")\n",
    "elif Day_Number==5:\n",
    "    print(Day_Number, \"Friday\")\n",
    "elif Day_Number==6:\n",
    "    print(Day_Number, \"Saturday\")\n",
    "elif Day_Number==7:\n",
    "    print(Day_Number, \"Sundauy\")\n",
    "else:\n",
    "    print(\"But, There are only 7 Days in a week\")\n",
    "    \n",
    "                                                \n",
    "                                          #Explanation of a program :- Here we are assigning our value to a variable.\n",
    "                                          #Named as Day Number by using input function as as an integer type\n",
    "                                          #After that by conditional statement we are checking that the given value is:\n",
    "                                          #Even or Odd. If it is Even it will give output as : \n",
    "                                          #The day number and It is an even you can go out\n",
    "                                          #If it is Odd it will give output as : \n",
    "                                          #The day number and it is and odd you can not go out.\n",
    "                                          #According to number it will show the day name also.\n",
    "                                          #If we give greater than 7 numbers it will output as :\n",
    "                                            #But there are only 7 days in a week"
   ]
  },
  {
   "cell_type": "code",
   "execution_count": 8,
   "id": "c1dc09b2",
   "metadata": {},
   "outputs": [
    {
     "name": "stdout",
     "output_type": "stream",
     "text": [
      "Enter the Day Number : 4\n",
      "4 It is an even day u can come out\n",
      "4 Thursday\n",
      "2\n",
      "4\n",
      "6\n",
      "8\n",
      "10\n",
      "12\n",
      "14\n",
      "Number of even numbers : 7\n",
      "Number of odd numbers : 8\n"
     ]
    }
   ],
   "source": [
    "#Write a Python program to count the number of even and odd numbers from a series of numbers.\n",
    "#And\n",
    "##Write a Python Program to don't go outside in odd day\n",
    "\n",
    "\n",
    "\n",
    "numbers = [1,2,3,4,5,6,7,8,9,10,11,12,13,14,15]\n",
    "\n",
    "count_odd = 0\n",
    "\n",
    "count_even = 0\n",
    "\n",
    "Day_Number = int(input(\"Enter the Day Number : \"))\n",
    "if Day_Number % 2 ==0:\n",
    "    print(Day_Number, \"It is an even day u can come out\")\n",
    "else:\n",
    "    print(Day_Number, \"It is an odd u can not come out\")\n",
    "if Day_Number==1:\n",
    "    print(Day_Number, \"Monday\")\n",
    "elif Day_Number==2:\n",
    "    print(Day_Number, \"Tuesday\")\n",
    "elif Day_Number==3:\n",
    "    print(Day_Number, \"Wednesday\")\n",
    "elif Day_Number==4:\n",
    "    print(Day_Number, \"Thursday\")\n",
    "elif Day_Number==5:\n",
    "    print(Day_Number, \"Friday\")\n",
    "elif Day_Number==6:\n",
    "    print(Day_Number, \"Saturday\")\n",
    "elif Day_Number==7:\n",
    "    print(Day_Number, \"Sundauy\")\n",
    "else:\n",
    "    print(\"There are only 7 Days in a week\")\n",
    "\n",
    "for x in numbers:\n",
    "    if x % 2 == 0:\n",
    "        print(x)\n",
    "        count_even+=1\n",
    "    else:\n",
    "        count_odd+=1\n",
    "print(\"Number of even numbers :\",count_even)\n",
    "print(\"Number of odd numbers :\",count_odd)\n",
    "\n",
    "                                         #Explanation of a program :- Here we combined the above two programs and excuted \n",
    "                                                                    #The total output will be at one place\n",
    "                                                                    #and also it will print the even number list"
   ]
  },
  {
   "cell_type": "code",
   "execution_count": null,
   "id": "f431d714",
   "metadata": {},
   "outputs": [],
   "source": []
  }
 ],
 "metadata": {
  "kernelspec": {
   "display_name": "Python 3",
   "language": "python",
   "name": "python3"
  },
  "language_info": {
   "codemirror_mode": {
    "name": "ipython",
    "version": 3
   },
   "file_extension": ".py",
   "mimetype": "text/x-python",
   "name": "python",
   "nbconvert_exporter": "python",
   "pygments_lexer": "ipython3",
   "version": "3.8.8"
  }
 },
 "nbformat": 4,
 "nbformat_minor": 5
}
