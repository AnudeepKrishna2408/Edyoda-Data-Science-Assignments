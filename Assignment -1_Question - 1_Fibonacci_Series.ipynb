{
 "cells": [
  {
   "cell_type": "code",
   "execution_count": null,
   "id": "29868987",
   "metadata": {},
   "outputs": [],
   "source": [
    "#Write a Python program to get the Fibonacci series between 0 to 50\n",
    "#Fibonacci Series Definition :- It is defined as A series of numbers in which each fibonocci number is: \n",
    "                            #The Sum of the Preceeding NUmbers.\n",
    "                            #The series usually starts from 0,1\n",
    "                            #In Maths, the sequence is defined as an ordered list of numbers that follow a specific pattern. \n",
    "                            #The numbers present in the sequence are called the terms.\n",
    "                #Example of a Fibonacci Series is : 0,1,1,2,3,5,8,13,21,34,55............................\n",
    "    #In python we can say this as a Fibonacci sequence is the integer sequence of 0, 1, 1, 2, 3, 5, 8....\n",
    "                            #The first two terms are 0 and 1. All other terms are obtained by adding the preceding two terms. \n",
    "                            #This means we can say that nth term is the sum of (n-1)th and (n-2)th term."
   ]
  },
  {
   "cell_type": "code",
   "execution_count": 2,
   "id": "15d13278",
   "metadata": {},
   "outputs": [
    {
     "name": "stdout",
     "output_type": "stream",
     "text": [
      "1 1 2 3 5 8 13 21 34 "
     ]
    }
   ],
   "source": [
    "#Write a Python program to get the Fibonacci series between 0 to 50:-\n",
    "\n",
    "z,w=0,1\n",
    "\n",
    "while w<50:\n",
    "    print(w, end=\" \")\n",
    "    z,w = w,z+w\n",
    "                          #Explanation of program :- Here first we assigning first two terms to the variables z and w\n",
    "                                                #After that we are using while loop this will run tlii the condition satisfies\n",
    "                                            #for incresing count we are using z,w = w, z+w\n",
    "                                   #In print function if we use end function with empty string it will print output in same line"
   ]
  },
  {
   "cell_type": "code",
   "execution_count": 3,
   "id": "3b532439",
   "metadata": {},
   "outputs": [
    {
     "name": "stdout",
     "output_type": "stream",
     "text": [
      "1\n",
      "1\n",
      "2\n",
      "3\n",
      "5\n",
      "8\n",
      "13\n",
      "21\n",
      "34\n"
     ]
    }
   ],
   "source": [
    "#Write a Python program to get the Fibonacci series between 0 to 50:-\n",
    "\n",
    "z,w=0,1\n",
    "\n",
    "while w<50:\n",
    "    print(w)\n",
    "    z,w = w,z+w\n",
    "    \n",
    "                        #Explanation of program :- Here first we assigning first two terms to the variables z and w\n",
    "                                                    #After we are using while loop this will run tlii the condition satisfies\n",
    "                                                    #for incresing count we are using z,w = w, z+w\n",
    "                                                    #IN print function we are not end function so it is printing in new line."
   ]
  },
  {
   "cell_type": "code",
   "execution_count": 5,
   "id": "80681a32",
   "metadata": {},
   "outputs": [
    {
     "name": "stdout",
     "output_type": "stream",
     "text": [
      "How many terms? 1\n",
      "Fibonacci sequence upto 1 :\n",
      "0\n"
     ]
    }
   ],
   "source": [
    "#Program for n number of terms :-\n",
    "#Write a Python program to get the Fibonacci series for number of term :- \n",
    "\n",
    "No_Of_Terms = int(input(\"How many terms? \"))\n",
    "\n",
    "a1, a2 = 0, 1\n",
    "k = 0\n",
    "\n",
    "if No_Of_Terms <= 0:\n",
    "    print(\"Please enter a positive integer\")\n",
    "elif No_Of_Terms == 1:\n",
    "    print(\"Fibonacci sequence upto\",No_Of_Terms,\":\")\n",
    "    print(a1)\n",
    "else:\n",
    "    print(\"Fibonacci sequence: \")\n",
    "    while k < No_Of_Terms:\n",
    "        print(a1)\n",
    "        nth = a1 + a2\n",
    "        a1 = a2\n",
    "        a2 = nth\n",
    "        k += 1\n",
    "                      \n",
    "            # Explanation of Program :- Here we store no of terms in our variable i.e named as No_of_Terms.\n",
    "                                                #By using input function.\n",
    "                                                #We initialize first two terms as 0 and 1 and assigning them to two variables\n",
    "                                                #named as a1 and a2 and for increasing the count value we are taking a variable\n",
    "                                                #named as k and also we are assigning a value to that i.e 0\n",
    "                    #In next step by using \"if\" condition and comparison operator \"<=\" we will check that :\n",
    "                    #no of terms is lesser than or equal to 0 or not if that condition is True means it will print as :\n",
    "                    #Please enter a possitive integer.\n",
    "                    #If that statement is false it will come to next condition i.e \"elif\" in this condition we will check that\n",
    "                    #by using comparison operator \"==\" No of terms is equal to 1 or not if it is equals to 1 means \n",
    "                    #It will print as : Fibonacci Sequence upto No of terms.And output will come as 0.because the first is 0\n",
    "                    #If the elif condition is False then it will come to \"else\" condition in this comditon : \n",
    "                    #If the No of terms is greater than 2 it will come to this condition to print Fibonacci Sequence\n",
    "                    #It will first print Fibonacci Sequence as the sub heading\n",
    "                    #After that we are using while loop to find next term in the fibonacci sequence by : \n",
    "                    #Adding the preceeding two terms. We then interchange the variables and continue\n",
    "                    #this iteration process continues till the condition satisfies."
   ]
  },
  {
   "cell_type": "code",
   "execution_count": 4,
   "id": "af76c53b",
   "metadata": {},
   "outputs": [
    {
     "name": "stdout",
     "output_type": "stream",
     "text": [
      "Fibonacci sequence: \n",
      "0\n",
      "1\n",
      "1\n",
      "2\n",
      "3\n",
      "5\n",
      "8\n",
      "13\n",
      "21\n",
      "34\n",
      "55\n",
      "89\n",
      "144\n",
      "233\n",
      "377\n",
      "610\n",
      "987\n",
      "1597\n",
      "2584\n",
      "4181\n",
      "6765\n",
      "10946\n",
      "17711\n",
      "28657\n",
      "46368\n",
      "75025\n",
      "121393\n",
      "196418\n",
      "317811\n",
      "514229\n",
      "832040\n",
      "1346269\n",
      "2178309\n",
      "3524578\n",
      "5702887\n",
      "9227465\n",
      "14930352\n",
      "24157817\n",
      "39088169\n",
      "63245986\n",
      "102334155\n",
      "165580141\n",
      "267914296\n",
      "433494437\n",
      "701408733\n",
      "1134903170\n",
      "1836311903\n",
      "2971215073\n",
      "4807526976\n",
      "7778742049\n"
     ]
    }
   ],
   "source": [
    "#Program for exact 50 terms :-\n",
    "\n",
    "No_Of_Terms = 50\n",
    "\n",
    "a1, a2 = 0, 1\n",
    "k = 0\n",
    "\n",
    "if No_Of_Terms <= 0:\n",
    "    print(\"Please enter a positive integer\")\n",
    "elif No_Of_Terms == 1:\n",
    "    print(\"Fibonacci sequence upto\",No_Of_Terms,\":\")\n",
    "    print(a1)\n",
    "else:\n",
    "    print(\"Fibonacci sequence: \")\n",
    "    while k < No_Of_Terms:\n",
    "        print(a1)\n",
    "        nth = a1 + a2\n",
    "        a1 = a2\n",
    "        a2 = nth\n",
    "        k += 1\n",
    "                    \n",
    "            # Explanation of Program :- Here we store no of terms in our variable i.e named as No_of_Terms. \n",
    "                                                #We initialize first two terms as 0 and 1 and assigning them to two variables\n",
    "                                                #named as a1 and a2 and for increasing the count value we are taking a variable\n",
    "                                                #named as k and also we are assigning a value to that i.e 0\n",
    "                    #In next step by using \"if\" condition and comparison operator \"<=\" we will check that :\n",
    "                    #no of terms is lesser than or equal to 0 or not if that condition is True means it will print as :\n",
    "                    #Please enter a possitive integer.\n",
    "                    #If that statement is false it will come to next condition i.e \"elif\" in this condition we will check that\n",
    "                    #by using comparison operator \"==\" No of terms is equal to 1 or not if it is equals to 1 means \n",
    "                    #It will print as : Fibonacci Sequence upto No of terms.And output will come as 0.because the first is 0\n",
    "                    #If the elif condition is False then it will come to \"else\" condition in this comditon : \n",
    "                    #If the No of terms is >= 2 it will come to this condition to print Fibonacci Sequence\n",
    "                    #It will first print Fibonacci Sequence as the sub heading\n",
    "                    #After that we are using while loop to find next term in the fibonacci sequence by : \n",
    "                    #Adding the preceeding two terms. We then interchange the variables and continue\n",
    "                    #this iteration process continues till the condition satisfies."
   ]
  },
  {
   "cell_type": "code",
   "execution_count": null,
   "id": "a5ff44ca",
   "metadata": {},
   "outputs": [],
   "source": []
  }
 ],
 "metadata": {
  "kernelspec": {
   "display_name": "Python 3",
   "language": "python",
   "name": "python3"
  },
  "language_info": {
   "codemirror_mode": {
    "name": "ipython",
    "version": 3
   },
   "file_extension": ".py",
   "mimetype": "text/x-python",
   "name": "python",
   "nbconvert_exporter": "python",
   "pygments_lexer": "ipython3",
   "version": "3.8.8"
  }
 },
 "nbformat": 4,
 "nbformat_minor": 5
}
