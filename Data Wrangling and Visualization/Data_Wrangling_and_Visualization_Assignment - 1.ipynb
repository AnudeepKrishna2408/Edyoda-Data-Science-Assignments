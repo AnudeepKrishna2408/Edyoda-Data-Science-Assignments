{
 "cells": [
  {
   "cell_type": "code",
   "execution_count": 1,
   "id": "cf3dcf09",
   "metadata": {},
   "outputs": [
    {
     "name": "stdout",
     "output_type": "stream",
     "text": [
      "The Required answer is :  [0. 0. 0. 0. 1. 0. 0. 0. 0. 0.]\n"
     ]
    }
   ],
   "source": [
    "# 1. Create a null vector of size 10 but the fifth value which is 1.\n",
    "\n",
    "# Solution :-\n",
    "\n",
    "import numpy as np \n",
    "\n",
    "null_vector = np.zeros(10) \n",
    "null_vector[4] = 1 \n",
    "print('The Required answer is : ',null_vector)"
   ]
  },
  {
   "cell_type": "code",
   "execution_count": 2,
   "id": "10c7f553",
   "metadata": {},
   "outputs": [
    {
     "name": "stdout",
     "output_type": "stream",
     "text": [
      "The required vector is :  [10 11 12 13 14 15 16 17 18 19 20 21 22 23 24 25 26 27 28 29 30 31 32 33\n",
      " 34 35 36 37 38 39 40 41 42 43 44 45 46 47 48 49]\n"
     ]
    }
   ],
   "source": [
    "# 2.Create a vector with values ranging from 10 to 49.\n",
    "import numpy as np\n",
    "\n",
    "vector = np.arange(10,50)\n",
    "print('The required vector is : ',vector)"
   ]
  },
  {
   "cell_type": "code",
   "execution_count": 3,
   "id": "237c9764",
   "metadata": {},
   "outputs": [
    {
     "name": "stdout",
     "output_type": "stream",
     "text": [
      "The 3x3 matrix is :  [[0 1 2]\n",
      " [3 4 5]\n",
      " [6 7 8]]\n"
     ]
    }
   ],
   "source": [
    "# 3. Create a 3x3 matrix with values ranging from 0 to 8\n",
    "import numpy as np\n",
    "\n",
    "matrix = np.array([[0,1,2],[3,4,5],[6,7,8]])\n",
    "\n",
    "print('The 3x3 matrix is : ' ,matrix)"
   ]
  },
  {
   "cell_type": "code",
   "execution_count": 4,
   "id": "309b1d99",
   "metadata": {},
   "outputs": [
    {
     "name": "stdout",
     "output_type": "stream",
     "text": [
      "Non-zero elements indices:\n",
      "The result is :  (array([0, 1, 4], dtype=int64),)\n"
     ]
    }
   ],
   "source": [
    "# 4. Find indices of non-zero elements from [1,2,0,0,4,0]\n",
    "import numpy as np \n",
    "\n",
    "list_1 = [1,2,0,0,4,0] \n",
    "\n",
    "print(\"Non-zero elements indices:\") \n",
    "\n",
    "result = np.nonzero(list_1) \n",
    "\n",
    "print('The result is : ' ,result)"
   ]
  },
  {
   "cell_type": "code",
   "execution_count": 6,
   "id": "c4535cd8",
   "metadata": {},
   "outputs": [
    {
     "name": "stdout",
     "output_type": "stream",
     "text": [
      "The 10x10 array of random values is:\n",
      "\n",
      "[[122 128 143 138  58 115  92 107  30  60]\n",
      " [ 20  70  36 131  23  40 104 143  21 123]\n",
      " [ 41 120  54  14   7 100  66  37  29 125]\n",
      " [ 63  12 128 105 141  54 139  81  72  50]\n",
      " [ 46  35  41 142  41   2  21 143   2  86]\n",
      " [ 31  67  59 128 144 114   7  50 148  67]\n",
      " [ 96 120  85  90  17   8 146  67 111 140]\n",
      " [ 54  37 129   6   8  56  11  93  50  29]\n",
      " [ 72 122 101  58  71  41 141  52  46 119]\n",
      " [126  75  83 144  14  66  88   7  35  91]]\n",
      "\n",
      "The minimum value in the array is: 2\n",
      "The maximum value in the array is: 148\n"
     ]
    }
   ],
   "source": [
    "# 5. Create a 10x10 array with random values and find the minimum and maximum values.\n",
    "\n",
    "import numpy as np \n",
    "\n",
    "array = np.random.randint(low=1, high=150, size=(10, 10)) \n",
    "\n",
    "print(\"The 10x10 array of random values is:\\n\") \n",
    "print(array) \n",
    "\n",
    "print(\"\\nThe minimum value in the array is:\", np.min(array)) \n",
    "print(\"The maximum value in the array is:\", np.max(array))"
   ]
  },
  {
   "cell_type": "code",
   "execution_count": 7,
   "id": "6e6fa132",
   "metadata": {},
   "outputs": [
    {
     "name": "stdout",
     "output_type": "stream",
     "text": [
      "Random vector is : [97 20  3 56 43 89 79 59 47 71 17 71 40 10 32 24 50 23 53 35 18 48 23 89\n",
      " 25  1 51 88 10 36]\n",
      "Mean value of the vector is : 43.6\n"
     ]
    }
   ],
   "source": [
    "# 6. Create a random vector of size 30 and find the mean value.\n",
    "\n",
    "\n",
    "import numpy as np\n",
    "\n",
    "rand_vector = np.random.randint(1,100,30)\n",
    "\n",
    "mean_value = np.mean(rand_vector)\n",
    "\n",
    "print(\"Random vector is :\", rand_vector)\n",
    "print(\"Mean value of the vector is :\", mean_value)"
   ]
  },
  {
   "cell_type": "code",
   "execution_count": null,
   "id": "5c90f43f",
   "metadata": {},
   "outputs": [],
   "source": []
  }
 ],
 "metadata": {
  "kernelspec": {
   "display_name": "Python 3",
   "language": "python",
   "name": "python3"
  },
  "language_info": {
   "codemirror_mode": {
    "name": "ipython",
    "version": 3
   },
   "file_extension": ".py",
   "mimetype": "text/x-python",
   "name": "python",
   "nbconvert_exporter": "python",
   "pygments_lexer": "ipython3",
   "version": "3.8.8"
  }
 },
 "nbformat": 4,
 "nbformat_minor": 5
}
