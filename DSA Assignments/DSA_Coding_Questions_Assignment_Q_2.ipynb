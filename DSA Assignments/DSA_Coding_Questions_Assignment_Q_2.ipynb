{
 "cells": [
  {
   "cell_type": "code",
   "execution_count": 5,
   "id": "0d883158",
   "metadata": {},
   "outputs": [
    {
     "name": "stdout",
     "output_type": "stream",
     "text": [
      "Enter the number of rows in a pyramid : 6\n",
      "* \n",
      "* * \n",
      "* * * \n",
      "* * * * \n",
      "* * * * * \n",
      "* * * * * * \n"
     ]
    }
   ],
   "source": [
    "# Write a Python Program to print full pyramid using '*' symbol. The pattern should be as shown below:\n",
    "\n",
    "# *\n",
    "\n",
    "# * * *\n",
    "\n",
    "# * * * * *\n",
    "\n",
    "# * * * * * * *\n",
    "\n",
    "# * * * * * * * * *\n",
    "\n",
    "\n",
    "#Solution :-\n",
    "\n",
    "No_of_rows = int(input(\"Enter the number of rows in a pyramid : \"))\n",
    "\n",
    "for i in range(0, No_of_rows):\n",
    "    for j in range(0, i + 1):\n",
    "        print(\"*\", end=' ')\n",
    "\n",
    "    print(\"\\r\")"
   ]
  },
  {
   "cell_type": "code",
   "execution_count": null,
   "id": "3c1e774a",
   "metadata": {},
   "outputs": [],
   "source": []
  }
 ],
 "metadata": {
  "kernelspec": {
   "display_name": "Python 3",
   "language": "python",
   "name": "python3"
  },
  "language_info": {
   "codemirror_mode": {
    "name": "ipython",
    "version": 3
   },
   "file_extension": ".py",
   "mimetype": "text/x-python",
   "name": "python",
   "nbconvert_exporter": "python",
   "pygments_lexer": "ipython3",
   "version": "3.8.8"
  }
 },
 "nbformat": 4,
 "nbformat_minor": 5
}
