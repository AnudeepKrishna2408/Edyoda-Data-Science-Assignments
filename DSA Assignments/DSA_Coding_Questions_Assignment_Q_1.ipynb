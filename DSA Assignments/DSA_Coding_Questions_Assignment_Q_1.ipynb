{
 "cells": [
  {
   "cell_type": "code",
   "execution_count": 12,
   "id": "05e56efb",
   "metadata": {},
   "outputs": [
    {
     "name": "stdout",
     "output_type": "stream",
     "text": [
      "A  \n",
      "B  B  \n",
      "C  C  C  \n",
      "D  D  D  D  \n",
      "E  E  E  E  E  \n"
     ]
    }
   ],
   "source": [
    "# Write a Python Program to print half pyramid using alphabets. The pattern should be as shown below:\n",
    "\n",
    "# ﻿A\n",
    "\n",
    "# B B\n",
    "\n",
    "# C C C\n",
    "\n",
    "# D D D D\n",
    "\n",
    "# E E E E E\n",
    "\n",
    "\n",
    "#Solution :-\n",
    "\n",
    "Pyramid = 5\n",
    "ALPHABET_ORD = 65\n",
    "\n",
    "for i in range(0, Pyramid):\n",
    "    for j in range(0, i+1):\n",
    "        char = chr(ALPHABET_ORD)\n",
    "        print(char, end=\"  \")\n",
    "    ALPHABET_ORD += 1\n",
    "    print(\"\")"
   ]
  },
  {
   "cell_type": "code",
   "execution_count": null,
   "id": "9296dd56",
   "metadata": {},
   "outputs": [],
   "source": []
  }
 ],
 "metadata": {
  "kernelspec": {
   "display_name": "Python 3",
   "language": "python",
   "name": "python3"
  },
  "language_info": {
   "codemirror_mode": {
    "name": "ipython",
    "version": 3
   },
   "file_extension": ".py",
   "mimetype": "text/x-python",
   "name": "python",
   "nbconvert_exporter": "python",
   "pygments_lexer": "ipython3",
   "version": "3.8.8"
  }
 },
 "nbformat": 4,
 "nbformat_minor": 5
}
