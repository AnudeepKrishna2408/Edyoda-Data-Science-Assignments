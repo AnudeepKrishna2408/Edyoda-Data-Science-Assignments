{
 "cells": [
  {
   "cell_type": "code",
   "execution_count": 2,
   "id": "52017c04",
   "metadata": {},
   "outputs": [
    {
     "name": "stdout",
     "output_type": "stream",
     "text": [
      "1500\n"
     ]
    }
   ],
   "source": [
    "# Given an array arr[] of integers. Find a peak element i.e. an element that is not smaller than its neighbors. \n",
    "\n",
    "# Note: For corner elements, we need to consider only one neighbor. \n",
    "\n",
    "# Example:\n",
    "\n",
    "# Input: array[]= {5, 10, 20, 15}\n",
    "\n",
    "# Output: 20\n",
    "\n",
    "# Explanation: The element 20 has neighbors 10 and 15, both of them are less than 20.\n",
    "\n",
    "# Input: array[] = {10, 20, 15, 2, 23, 90, 67}\n",
    "\n",
    "# Output: 20 or 90\n",
    "\n",
    "# Explanation: The element 20 has neighbors 10 and 15, both of them are less than 20, similarly 90 has neighbors 23 and 67.\n",
    "\n",
    "\n",
    "# Solution :- \n",
    "\n",
    "def peak_element(arr, n): \n",
    "    # Find index of maximum element \n",
    "    # on left side of array \n",
    "    max_index = 0\n",
    "    for i in range(n): \n",
    "        if arr[i] > arr[max_index]: \n",
    "            max_index = i \n",
    "  \n",
    "    # Return maximum element \n",
    "    return arr[max_index] \n",
    "  \n",
    "arr =[10, 20, 15, 2, 23, 90, 67, 100, 54, 78, 1500, 25] \n",
    "n = len(arr) \n",
    "print(peak_element(arr, n))"
   ]
  },
  {
   "cell_type": "code",
   "execution_count": null,
   "id": "98aba751",
   "metadata": {},
   "outputs": [],
   "source": []
  }
 ],
 "metadata": {
  "kernelspec": {
   "display_name": "Python 3",
   "language": "python",
   "name": "python3"
  },
  "language_info": {
   "codemirror_mode": {
    "name": "ipython",
    "version": 3
   },
   "file_extension": ".py",
   "mimetype": "text/x-python",
   "name": "python",
   "nbconvert_exporter": "python",
   "pygments_lexer": "ipython3",
   "version": "3.8.8"
  }
 },
 "nbformat": 4,
 "nbformat_minor": 5
}
