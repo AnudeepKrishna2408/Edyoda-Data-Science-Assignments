{
 "cells": [
  {
   "cell_type": "code",
   "execution_count": 5,
   "id": "5b3ebd6e",
   "metadata": {},
   "outputs": [
    {
     "name": "stdout",
     "output_type": "stream",
     "text": [
      "[10, 1, 2, 3, 4, 5, 6, 7, 8, 9]\n"
     ]
    }
   ],
   "source": [
    "# Given an array, cyclically rotate the array clockwise by one. \n",
    "\n",
    "# Examples:  \n",
    "\n",
    "# Input: arr[] = {1, 2, 3, 4, 5}\n",
    "\n",
    "# Output: arr[] = {5, 1, 2, 3, 4}\n",
    "\n",
    "# Solution :-\n",
    "\n",
    "def cyclicallyRotate(arr, n): \n",
    "    temp = arr[n-1] \n",
    "    for i in range(n-1, 0, -1): \n",
    "        arr[i] = arr[i-1] \n",
    "    arr[0] = temp \n",
    "    return arr \n",
    "\n",
    "arr = [1, 2, 3, 4, 5, 6, 7, 8, 9, 10] \n",
    "n = len(arr) \n",
    "print(cyclicallyRotate(arr, n))"
   ]
  },
  {
   "cell_type": "code",
   "execution_count": null,
   "id": "5ef57568",
   "metadata": {},
   "outputs": [],
   "source": []
  }
 ],
 "metadata": {
  "kernelspec": {
   "display_name": "Python 3",
   "language": "python",
   "name": "python3"
  },
  "language_info": {
   "codemirror_mode": {
    "name": "ipython",
    "version": 3
   },
   "file_extension": ".py",
   "mimetype": "text/x-python",
   "name": "python",
   "nbconvert_exporter": "python",
   "pygments_lexer": "ipython3",
   "version": "3.8.8"
  }
 },
 "nbformat": 4,
 "nbformat_minor": 5
}
