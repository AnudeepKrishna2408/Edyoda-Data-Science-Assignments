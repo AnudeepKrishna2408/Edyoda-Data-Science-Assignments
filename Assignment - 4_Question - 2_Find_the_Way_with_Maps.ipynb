{
 "cells": [
  {
   "cell_type": "code",
   "execution_count": 1,
   "id": "e791d77e",
   "metadata": {},
   "outputs": [
    {
     "name": "stdout",
     "output_type": "stream",
     "text": [
      "The Given List of integers is :  [1, 2, 3, 4, 5, 6, 7]\n",
      "The Tripled List Of The Given List is :  [3, 6, 9, 12, 15, 18, 21]\n"
     ]
    }
   ],
   "source": [
    "#Write a Python program to triple all numbers of a given list of integers. Use Python map.\n",
    "\n",
    "#Using Map Function Without Lambda\n",
    "\n",
    "def triple(b):\n",
    "    return b*3\n",
    "c = [1,2,3,4,5,6,7]\n",
    "print(\"The Given List of integers is : \" , c)\n",
    "d = list(map(triple , c))\n",
    "print(\"The Tripled List Of The Given List is : \" , d)"
   ]
  },
  {
   "cell_type": "code",
   "execution_count": 2,
   "id": "812bb216",
   "metadata": {},
   "outputs": [
    {
     "name": "stdout",
     "output_type": "stream",
     "text": [
      "The Given List of integers is :  [1, 2, 3, 4, 5, 6, 7]\n",
      "The Tripled List Of The Given List is :  [3, 6, 9, 12, 15, 18, 21]\n"
     ]
    }
   ],
   "source": [
    "#Write a Python program to triple all numbers of a given list of integers. Use Python map.\n",
    "\n",
    "#Using Map Function With Lambda\n",
    "\n",
    "e = [1,2,3,4,5,6,7]\n",
    "print(\"The Given List of integers is : \" , c)\n",
    "f = list(map(lambda e : e*3,e))\n",
    "print(\"The Tripled List Of The Given List is : \" , f)\n"
   ]
  },
  {
   "cell_type": "code",
   "execution_count": null,
   "id": "50596b02",
   "metadata": {},
   "outputs": [],
   "source": []
  }
 ],
 "metadata": {
  "kernelspec": {
   "display_name": "Python 3",
   "language": "python",
   "name": "python3"
  },
  "language_info": {
   "codemirror_mode": {
    "name": "ipython",
    "version": 3
   },
   "file_extension": ".py",
   "mimetype": "text/x-python",
   "name": "python",
   "nbconvert_exporter": "python",
   "pygments_lexer": "ipython3",
   "version": "3.8.8"
  }
 },
 "nbformat": 4,
 "nbformat_minor": 5
}
