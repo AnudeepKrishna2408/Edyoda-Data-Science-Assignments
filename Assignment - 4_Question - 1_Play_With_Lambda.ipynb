{
 "cells": [
  {
   "cell_type": "code",
   "execution_count": 1,
   "id": "9a1ed43d",
   "metadata": {},
   "outputs": [
    {
     "name": "stdout",
     "output_type": "stream",
     "text": [
      "Enter the Argument : 10\n",
      "The Argument that is added by 25 is :  35\n"
     ]
    }
   ],
   "source": [
    "#Write a Python program to create a lambda function that adds 25 to a given number passed in as an argument.\n",
    "\n",
    "a = lambda N : N + 25\n",
    "N = int(input(\"Enter the Argument : \"))\n",
    "print(\"The Argument that is added by 25 is : \" , a(N))"
   ]
  },
  {
   "cell_type": "code",
   "execution_count": null,
   "id": "79e21da7",
   "metadata": {},
   "outputs": [],
   "source": []
  }
 ],
 "metadata": {
  "kernelspec": {
   "display_name": "Python 3",
   "language": "python",
   "name": "python3"
  },
  "language_info": {
   "codemirror_mode": {
    "name": "ipython",
    "version": 3
   },
   "file_extension": ".py",
   "mimetype": "text/x-python",
   "name": "python",
   "nbconvert_exporter": "python",
   "pygments_lexer": "ipython3",
   "version": "3.8.8"
  }
 },
 "nbformat": 4,
 "nbformat_minor": 5
}
