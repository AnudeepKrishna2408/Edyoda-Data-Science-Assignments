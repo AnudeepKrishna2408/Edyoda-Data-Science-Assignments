{
 "cells": [
  {
   "cell_type": "code",
   "execution_count": 1,
   "id": "2894e5a8",
   "metadata": {},
   "outputs": [
    {
     "name": "stdout",
     "output_type": "stream",
     "text": [
      "The given string :   1234abcd\n",
      "The Reversed string is :  dcba4321\n"
     ]
    }
   ],
   "source": [
    "#Write a Python program to reverse a string.\n",
    "\n",
    "def reverse(Given_String):\n",
    "    Reverse_String = \"\"\n",
    "    for char in Given_String:\n",
    "        Reverse_String = char + Reverse_String\n",
    "    return Reverse_String\n",
    "a = \"1234abcd\"\n",
    "print(\"The given string :  \",a)\n",
    "print(\"The Reversed string is : \", end = \" \")\n",
    "print(reverse(a))"
   ]
  },
  {
   "cell_type": "code",
   "execution_count": 2,
   "id": "19a929f6",
   "metadata": {},
   "outputs": [
    {
     "name": "stdout",
     "output_type": "stream",
     "text": [
      "The given string is :  1234abcd\n",
      "The reversed string is :  dcba4321\n"
     ]
    }
   ],
   "source": [
    "#Write a Python program to reverse a string.\n",
    "\n",
    "def reverse(a):\n",
    "    a = list(a)\n",
    "    a.reverse()\n",
    "    return \"\".join(a)\n",
    "a = \"1234abcd\"\n",
    "print(\"The given string is : \" ,a)\n",
    "print(\"The reversed string is : \" ,reverse(a))"
   ]
  },
  {
   "cell_type": "code",
   "execution_count": null,
   "id": "2fb76704",
   "metadata": {},
   "outputs": [],
   "source": []
  }
 ],
 "metadata": {
  "kernelspec": {
   "display_name": "Python 3",
   "language": "python",
   "name": "python3"
  },
  "language_info": {
   "codemirror_mode": {
    "name": "ipython",
    "version": 3
   },
   "file_extension": ".py",
   "mimetype": "text/x-python",
   "name": "python",
   "nbconvert_exporter": "python",
   "pygments_lexer": "ipython3",
   "version": "3.8.8"
  }
 },
 "nbformat": 4,
 "nbformat_minor": 5
}
