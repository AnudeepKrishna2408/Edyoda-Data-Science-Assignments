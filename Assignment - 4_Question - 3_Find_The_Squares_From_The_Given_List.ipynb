{
 "cells": [
  {
   "cell_type": "code",
   "execution_count": 1,
   "id": "8f7d0a44",
   "metadata": {},
   "outputs": [
    {
     "name": "stdout",
     "output_type": "stream",
     "text": [
      "Enter The Number Of Elements In a List : 4\n",
      "4 5 2 9\n",
      "The Given List is :  [4, 5, 2, 9]\n",
      "The Squared List Of The Given List is :  [16, 25, 4, 81]\n"
     ]
    }
   ],
   "source": [
    "#Write a Python program to square the elements of a list using map() function.\n",
    "\n",
    "#Using Map Function With Lambda\n",
    "#Taking Input From End User By Using Map Function\n",
    "\n",
    "k = int(input(\"Enter The Number Of Elements In a List : \"))\n",
    "k1 = list(map(int , input().split()))\n",
    "print(\"The Given List is : \", k1)\n",
    "L = list(map(lambda k: k**2,k1))\n",
    "print(\"The Squared List Of The Given List is : \" , L)"
   ]
  },
  {
   "cell_type": "code",
   "execution_count": 2,
   "id": "f41fb0bb",
   "metadata": {},
   "outputs": [
    {
     "name": "stdout",
     "output_type": "stream",
     "text": [
      "The Given List is :  [4, 5, 2, 9]\n",
      "The Squared List Of The Given List is :  [16, 25, 4, 81]\n"
     ]
    }
   ],
   "source": [
    "#Write a Python program to square the elements of a list using map() function.\n",
    "\n",
    "#Using Map Function Without Lambda\n",
    "\n",
    "def square(h):\n",
    "    return h**2\n",
    "I = [4,5,2,9]\n",
    "print(\"The Given List is : \" , I)\n",
    "J = list(map(square , I))\n",
    "print(\"The Squared List Of The Given List is : \" , J)"
   ]
  },
  {
   "cell_type": "code",
   "execution_count": 3,
   "id": "7070669e",
   "metadata": {},
   "outputs": [
    {
     "name": "stdout",
     "output_type": "stream",
     "text": [
      "The Given List is :  [4, 5, 2, 9]\n",
      "The Squared List Of The Given List is :  [16, 25, 4, 81]\n"
     ]
    }
   ],
   "source": [
    "#Write a Python program to square the elements of a list using map() function.\n",
    "\n",
    "#Using Map Function With Lambda\n",
    "\n",
    "k = [4,5,2,9]\n",
    "print(\"The Given List is : \", k)\n",
    "L = list(map(lambda k: k**2,k))\n",
    "print(\"The Squared List Of The Given List is : \" , L)"
   ]
  },
  {
   "cell_type": "code",
   "execution_count": 4,
   "id": "5f4bddba",
   "metadata": {},
   "outputs": [
    {
     "name": "stdout",
     "output_type": "stream",
     "text": [
      "Enter The Number of Elements in a List : 4\n",
      "Enter element : 4\n",
      "Enter element : 5\n",
      "Enter element : 2\n",
      "Enter element : 9\n",
      "The Original List Is :  [4, 5, 2, 9]\n",
      "The Squared List Of The Given List Is :  [16, 25, 4, 81]\n"
     ]
    }
   ],
   "source": [
    "#Write a Python program to square the elements of a list using map() function.\n",
    "\n",
    "#Using Map Function With Lambda\n",
    "#Taking Input From End User By Using For Loop\n",
    "\n",
    "M = list()\n",
    "N = int(input(\"Enter The Number of Elements in a List : \"))\n",
    "for i in range(0,N):\n",
    "    element=int(input(\"Enter element : \" ))\n",
    "    M.append(element)\n",
    "print(\"The Original List Is : \" , M)\n",
    "O = list(map(lambda M: M**2,M))\n",
    "print(\"The Squared List Of The Given List Is : \" , O)"
   ]
  },
  {
   "cell_type": "code",
   "execution_count": null,
   "id": "4f34c94f",
   "metadata": {},
   "outputs": [],
   "source": []
  }
 ],
 "metadata": {
  "kernelspec": {
   "display_name": "Python 3",
   "language": "python",
   "name": "python3"
  },
  "language_info": {
   "codemirror_mode": {
    "name": "ipython",
    "version": 3
   },
   "file_extension": ".py",
   "mimetype": "text/x-python",
   "name": "python",
   "nbconvert_exporter": "python",
   "pygments_lexer": "ipython3",
   "version": "3.8.8"
  }
 },
 "nbformat": 4,
 "nbformat_minor": 5
}
