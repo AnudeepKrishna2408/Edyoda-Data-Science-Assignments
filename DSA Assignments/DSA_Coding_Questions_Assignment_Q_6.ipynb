{
 "cells": [
  {
   "cell_type": "code",
   "execution_count": 1,
   "id": "d7430b6c",
   "metadata": {},
   "outputs": [
    {
     "name": "stdout",
     "output_type": "stream",
     "text": [
      "5\n"
     ]
    }
   ],
   "source": [
    "# Given an array of integers, find the length of the longest sub-sequence such that elements in the subsequence \n",
    "# are consecutive integers, the consecutive numbers can be in any order. \n",
    "\n",
    "# Examples:  \n",
    "\n",
    "# Input: arr[] = {1, 9, 3, 10, 4, 20, 2}\n",
    "\n",
    "# Output: 4\n",
    "\n",
    "# Explanation: The subsequence 1, 3, 4, 2 is the longest subsequence of consecutive elements\n",
    "\n",
    "# Input: arr[] = {36, 41, 56, 35, 44, 33, 34, 92, 43, 32, 42}\n",
    "\n",
    "# Output: 5\n",
    "\n",
    "# Explanation: The subsequence 36, 35, 33, 34, 32 is the longest subsequence of consecutive elements.\n",
    "\n",
    "# Solution :-\n",
    "\n",
    "def longestConsecutiveSubsequence(arr):\n",
    "    s = set() \n",
    "    for ele in arr: \n",
    "        s.add(ele) \n",
    "    ans = 0\n",
    "    for ele in arr: \n",
    "        if (ele - 1) not in s: \n",
    "            temp = ele \n",
    "        count = 1\n",
    "  \n",
    "    while (temp + 1) in s: \n",
    "        temp += 1\n",
    "        count += 1\n",
    "    ans = max(ans, count) \n",
    "    return ans \n",
    "  \n",
    "arr = [36, 41, 56, 35, 44, 33, 34, 92, 43, 32, 42]\n",
    "print(longestConsecutiveSubsequence(arr))"
   ]
  },
  {
   "cell_type": "code",
   "execution_count": null,
   "id": "85bdbf85",
   "metadata": {},
   "outputs": [],
   "source": []
  }
 ],
 "metadata": {
  "kernelspec": {
   "display_name": "Python 3",
   "language": "python",
   "name": "python3"
  },
  "language_info": {
   "codemirror_mode": {
    "name": "ipython",
    "version": 3
   },
   "file_extension": ".py",
   "mimetype": "text/x-python",
   "name": "python",
   "nbconvert_exporter": "python",
   "pygments_lexer": "ipython3",
   "version": "3.8.8"
  }
 },
 "nbformat": 4,
 "nbformat_minor": 5
}
