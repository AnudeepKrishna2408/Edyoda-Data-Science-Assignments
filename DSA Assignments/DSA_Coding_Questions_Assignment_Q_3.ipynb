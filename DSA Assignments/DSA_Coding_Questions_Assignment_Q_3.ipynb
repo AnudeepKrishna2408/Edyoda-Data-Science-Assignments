{
 "cells": [
  {
   "cell_type": "code",
   "execution_count": 3,
   "id": "4800f33b",
   "metadata": {},
   "outputs": [
    {
     "name": "stdout",
     "output_type": "stream",
     "text": [
      "Enter a number: 567\n",
      "The reversed number is:  765\n"
     ]
    }
   ],
   "source": [
    "#Take a number as input from the user. Print the number in reversed order. For example, for input 567, output should be: 765\n",
    "\n",
    "#Solution :-\n",
    "\n",
    "# taking input from the user\n",
    "number = input('Enter a number: ')\n",
    "\n",
    "# reversing the number\n",
    "reverse_number = number[::-1]\n",
    "\n",
    "# printing the reversed number\n",
    "print('The reversed number is: ', reverse_number)"
   ]
  },
  {
   "cell_type": "code",
   "execution_count": null,
   "id": "2949853a",
   "metadata": {},
   "outputs": [],
   "source": []
  }
 ],
 "metadata": {
  "kernelspec": {
   "display_name": "Python 3",
   "language": "python",
   "name": "python3"
  },
  "language_info": {
   "codemirror_mode": {
    "name": "ipython",
    "version": 3
   },
   "file_extension": ".py",
   "mimetype": "text/x-python",
   "name": "python",
   "nbconvert_exporter": "python",
   "pygments_lexer": "ipython3",
   "version": "3.8.8"
  }
 },
 "nbformat": 4,
 "nbformat_minor": 5
}
